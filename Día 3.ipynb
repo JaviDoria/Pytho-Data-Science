{
 "cells": [
  {
   "cell_type": "markdown",
   "metadata": {},
   "source": [
    "# BUCLE WHILE\n",
    "Es un bucle infinito , no sé sabe de antemano el número de iteraciones"
   ]
  },
  {
   "cell_type": "code",
   "execution_count": 1,
   "metadata": {},
   "outputs": [
    {
     "name": "stdout",
     "output_type": "stream",
     "text": [
      "1\n",
      "2\n",
      "3\n"
     ]
    }
   ],
   "source": [
    "i = 1\n",
    "while i <= 3:\n",
    "    print(i)\n",
    "    i += 1"
   ]
  },
  {
   "cell_type": "code",
   "execution_count": 2,
   "metadata": {},
   "outputs": [
    {
     "name": "stdout",
     "output_type": "stream",
     "text": [
      "3\n",
      "6\n",
      "9\n",
      "12\n",
      "15\n",
      "18\n",
      "21\n",
      "24\n",
      "27\n",
      "30\n",
      "33\n",
      "36\n",
      "39\n",
      "42\n",
      "45\n",
      "48\n"
     ]
    }
   ],
   "source": [
    "# Práctica 1: Mediante un bucle while imprimir el valor de una variable i siempre y cuando sea menor de 50 , partiremos de i=3 e incrementaremos de 3 en 3\n",
    "i = 3\n",
    "while i <50:\n",
    "    print(i)\n",
    "    i += 3"
   ]
  },
  {
   "cell_type": "markdown",
   "metadata": {},
   "source": [
    "Dependencias son un tipo de librerías para fechas que no es necesario instalar."
   ]
  },
  {
   "cell_type": "code",
   "execution_count": 9,
   "metadata": {},
   "outputs": [
    {
     "name": "stdout",
     "output_type": "stream",
     "text": [
      "2024-09-04\n",
      "el día actual es 4 \n",
      "el mes actual es 9 \n",
      "el año actual es 2024 \n"
     ]
    }
   ],
   "source": [
    "# LLamamos una instancia\n",
    "from datetime import date      # sirve para trabajar con fechas\n",
    "hoy = date.today()\n",
    "print(hoy)\n",
    "\n",
    "#OBTENER POR SEPARADOS DIA, MES Y AÑO:\n",
    "\n",
    "print(f\"el día actual es {hoy.day} \")\n",
    "print(f\"el mes actual es {hoy.month} \")\n",
    "print(f\"el año actual es {hoy.year} \")"
   ]
  },
  {
   "cell_type": "code",
   "execution_count": 18,
   "metadata": {},
   "outputs": [
    {
     "name": "stdout",
     "output_type": "stream",
     "text": [
      "2024-09-04 16:23:53.493495\n",
      "La hora actual es las 16 horas\n",
      "Los minutos actuales son 23 minutos\n",
      "Los segundos actuales son 53 segundos\n"
     ]
    }
   ],
   "source": [
    "from datetime import datetime\n",
    "ahora = datetime.now()\n",
    "print(ahora)\n",
    "\n",
    "#OBTENER POR SEPARADO HORAS,MINUTOS Y SEGUNDOS:\n",
    "print(f\"La hora actual es las {ahora.hour} horas\")\n",
    "print(f\"Los minutos actuales son {ahora.minute} minutos\")\n",
    "print(f\"Los segundos actuales son {ahora.second} segundos\")"
   ]
  },
  {
   "cell_type": "code",
   "execution_count": 67,
   "metadata": {},
   "outputs": [],
   "source": [
    "# Práctica 2: crear un codigo que me devuelva le numero de segundos transcurridos entre la primera ejecucion de una celda y la segunda ejecucion de otra celda\n",
    "ahora = datetime.now()"
   ]
  },
  {
   "cell_type": "code",
   "execution_count": 74,
   "metadata": {},
   "outputs": [
    {
     "name": "stdout",
     "output_type": "stream",
     "text": [
      "El tiempo transcurrido ha sido de 3 minutos\n"
     ]
    }
   ],
   "source": [
    "# ESTA OPOCION ES VALIDA SOLO SI ESTAMOS EN LA MISMA HORA\n",
    "despues = datetime.now()\n",
    "print(f\"El tiempo transcurrido ha sido de {despues.minute-ahora.minute} minutos\")"
   ]
  },
  {
   "cell_type": "code",
   "execution_count": 72,
   "metadata": {},
   "outputs": [
    {
     "name": "stdout",
     "output_type": "stream",
     "text": [
      "El tiempo total han sido de 99 segundos\n"
     ]
    }
   ],
   "source": [
    "despues = datetime.now()\n",
    "resultado = (despues.minute - ahora.minute) * 60 +(despues.second - ahora.second)\n",
    "print(f\"El tiempo total han sido de {resultado} segundos\")"
   ]
  },
  {
   "cell_type": "code",
   "execution_count": 83,
   "metadata": {},
   "outputs": [
    {
     "name": "stdout",
     "output_type": "stream",
     "text": [
      "El tiempo total ha sido de 206.92 segundos\n"
     ]
    }
   ],
   "source": [
    "# ESTA ES LA OPCION ADECUADA\n",
    "resultado = round((despues - ahora).total_seconds(),2)\n",
    "print(f\"El tiempo total ha sido de {resultado} segundos\")\n"
   ]
  },
  {
   "cell_type": "code",
   "execution_count": 76,
   "metadata": {},
   "outputs": [
    {
     "name": "stdout",
     "output_type": "stream",
     "text": [
      "2024-08-27 05:15:36\n"
     ]
    }
   ],
   "source": [
    "# COMO AJUSTAR UNA FECHA CONCRETA. 27/08/2024\n",
    "fecha = datetime(2024,8,27,5,15,36)\n",
    "print(fecha)"
   ]
  },
  {
   "cell_type": "markdown",
   "metadata": {},
   "source": [
    "# LAS LIBRERÍAS EN PYTHON LLEVAN FUNCIONALIDADES ESPECIALES PARA PODER SER UTILIZADAS. PRIMERO LAS TENEMOS QUE INSTALAR Y DESPUÉS LLAMARLAS\n",
    "SE INSTALAN CON PIP O CONDAS:\n",
    "* PANDAS - PARA TRABAJAR CON DATOS\n",
    "* NUMPY - PARA TRABJAR CON MATRICES\n",
    "* MATPLOTLIB - PARA CREAR GRÁFICOS\n",
    "* SCIKIT LEARN = ANÁLISIS PREDICTIVO"
   ]
  },
  {
   "cell_type": "code",
   "execution_count": 82,
   "metadata": {},
   "outputs": [],
   "source": [
    "import pandas as pd"
   ]
  },
  {
   "cell_type": "markdown",
   "metadata": {},
   "source": [
    "Pandas sirve para trabajar con datos y tiene tres tipos de estructuras diferentes:\n",
    "* Series: Es una estructura de una dimension y llevan un indice asociado.\n",
    "* Dataframes: Son estructuras de dos dimensiones al estilo de una tabla de una base de datos , es decir va a tener campos más registros.\n",
    "* Paneles: Estructuras de tres dimensiones como un cubo."
   ]
  },
  {
   "cell_type": "code",
   "execution_count": 84,
   "metadata": {},
   "outputs": [
    {
     "name": "stdout",
     "output_type": "stream",
     "text": [
      "0        Lunes\n",
      "1       Martes\n",
      "2    Miércoles\n",
      "3       Jueves\n",
      "4      Viernes\n",
      "dtype: object\n"
     ]
    }
   ],
   "source": [
    "# Vamos a crear una serie de manera manual , son homogueneas (el mismo tipo de dato)\n",
    "semana = pd.Series([\"Lunes\",\"Martes\",\"Miércoles\",\"Jueves\",\"Viernes\"])\n",
    "print(semana)"
   ]
  },
  {
   "cell_type": "code",
   "execution_count": 85,
   "metadata": {},
   "outputs": [
    {
     "name": "stdout",
     "output_type": "stream",
     "text": [
      "0        Lunes\n",
      "1       Martes\n",
      "2    Miércoles\n",
      "3       Jueves\n",
      "4      Viernes\n",
      "dtype: object\n"
     ]
    }
   ],
   "source": [
    "semanabis = [\"Lunes\",\"Martes\",\"Miércoles\",\"Jueves\",\"Viernes\"]\n",
    "semana2= pd.Series(semanabis)\n",
    "print(semana2)"
   ]
  },
  {
   "cell_type": "code",
   "execution_count": 86,
   "metadata": {},
   "outputs": [
    {
     "name": "stdout",
     "output_type": "stream",
     "text": [
      "0    12\n",
      "1    57\n",
      "2    87\n",
      "3    96\n",
      "4    75\n",
      "5    34\n",
      "dtype: int64\n"
     ]
    }
   ],
   "source": [
    "# Serie numérica:\n",
    "numeros = [12,57,87,96,75,34]\n",
    "sn = pd.Series(numeros) # (data=numeros) es la manera academica pero no hace falta\n",
    "print(sn)"
   ]
  },
  {
   "cell_type": "code",
   "execution_count": 97,
   "metadata": {},
   "outputs": [
    {
     "data": {
      "text/plain": [
       "57"
      ]
     },
     "execution_count": 97,
     "metadata": {},
     "output_type": "execute_result"
    }
   ],
   "source": [
    "# Así accedo a un elemento específico de la lista\n",
    "sn[1]"
   ]
  },
  {
   "cell_type": "code",
   "execution_count": 87,
   "metadata": {},
   "outputs": [
    {
     "data": {
      "text/plain": [
       "6"
      ]
     },
     "execution_count": 87,
     "metadata": {},
     "output_type": "execute_result"
    }
   ],
   "source": [
    "# Como ver el tamaño de la serie con la función size\n",
    "sn.size"
   ]
  },
  {
   "cell_type": "code",
   "execution_count": 98,
   "metadata": {},
   "outputs": [
    {
     "name": "stdout",
     "output_type": "stream",
     "text": [
      "La suma de la serie es 361\n"
     ]
    }
   ],
   "source": [
    "# Como sumar los elementos de la serie\n",
    "print(f\"La suma de la serie es {sn.sum()}\")"
   ]
  },
  {
   "cell_type": "code",
   "execution_count": 100,
   "metadata": {},
   "outputs": [
    {
     "name": "stdout",
     "output_type": "stream",
     "text": [
      "La media de los elementos es 60.17\n"
     ]
    }
   ],
   "source": [
    "# La media de la serie\n",
    "print(f\"La media de los elementos es {round(sn.mean(),2)}\")"
   ]
  },
  {
   "cell_type": "code",
   "execution_count": 94,
   "metadata": {},
   "outputs": [
    {
     "name": "stdout",
     "output_type": "stream",
     "text": [
      "El elemento de mayor valor de la serie es 96\n"
     ]
    }
   ],
   "source": [
    "# El más grande\n",
    "print(f\"El elemento de mayor valor de la serie es {sn.max()}\")"
   ]
  },
  {
   "cell_type": "code",
   "execution_count": 95,
   "metadata": {},
   "outputs": [
    {
     "name": "stdout",
     "output_type": "stream",
     "text": [
      "El elemento de menor valor de la serie es 12\n"
     ]
    }
   ],
   "source": [
    "# El más pequeño\n",
    "print(f\"El elemento de menor valor de la serie es {sn.min()}\")"
   ]
  },
  {
   "cell_type": "code",
   "execution_count": 102,
   "metadata": {},
   "outputs": [
    {
     "name": "stdout",
     "output_type": "stream",
     "text": [
      "0     12\n",
      "1     69\n",
      "2    156\n",
      "3    252\n",
      "4    327\n",
      "5    361\n",
      "dtype: int64\n"
     ]
    }
   ],
   "source": [
    "# La suma acumulada\n",
    "print(sn.cumsum())"
   ]
  },
  {
   "cell_type": "code",
   "execution_count": 104,
   "metadata": {},
   "outputs": [
    {
     "name": "stdout",
     "output_type": "stream",
     "text": [
      "23    3\n",
      "12    2\n",
      "45    1\n",
      "63    1\n",
      "44    1\n",
      "Name: count, dtype: int64\n"
     ]
    }
   ],
   "source": [
    "# Ver la cantidad de veces que se repite un valor\n",
    "sn2 = pd.Series([12,23,12,45,23,63,44,23])\n",
    "print(sn2.value_counts())"
   ]
  },
  {
   "cell_type": "code",
   "execution_count": 105,
   "metadata": {},
   "outputs": [
    {
     "name": "stdout",
     "output_type": "stream",
     "text": [
      "328.8392857142857\n"
     ]
    }
   ],
   "source": [
    "# Función estadística la varianza, la variabilidad de una serie de numeros con respecto a su media con la función var\n",
    "print(sn2.var())"
   ]
  },
  {
   "cell_type": "code",
   "execution_count": 106,
   "metadata": {},
   "outputs": [
    {
     "name": "stdout",
     "output_type": "stream",
     "text": [
      "<bound method Series.std of 0    12\n",
      "1    23\n",
      "2    12\n",
      "3    45\n",
      "4    23\n",
      "5    63\n",
      "6    44\n",
      "7    23\n",
      "dtype: int64>\n"
     ]
    }
   ],
   "source": [
    "# La desviacion típica, es la desviación media de una variable respecto a su media aritmetica\n",
    "print(sn2.std)"
   ]
  },
  {
   "cell_type": "code",
   "execution_count": 107,
   "metadata": {},
   "outputs": [
    {
     "name": "stdout",
     "output_type": "stream",
     "text": [
      "count     8.000000\n",
      "mean     30.625000\n",
      "std      18.133926\n",
      "min      12.000000\n",
      "25%      20.250000\n",
      "50%      23.000000\n",
      "75%      44.250000\n",
      "max      63.000000\n",
      "dtype: float64\n"
     ]
    }
   ],
   "source": [
    "# Función para aver un resumen estadístico, cantidad de elementos,promedio,desviacion estadistica y cuartiles\n",
    "print(sn2.describe())"
   ]
  },
  {
   "cell_type": "code",
   "execution_count": 108,
   "metadata": {},
   "outputs": [],
   "source": [
    "# Aplicar una función a cada elemento de una serie,primero crear la función\n",
    "def suma5(x):\n",
    "    return x + 5"
   ]
  },
  {
   "cell_type": "code",
   "execution_count": 110,
   "metadata": {},
   "outputs": [
    {
     "data": {
      "text/plain": [
       "0    17\n",
       "1    28\n",
       "2    17\n",
       "3    50\n",
       "4    28\n",
       "5    68\n",
       "6    49\n",
       "7    28\n",
       "dtype: int64"
      ]
     },
     "execution_count": 110,
     "metadata": {},
     "output_type": "execute_result"
    }
   ],
   "source": [
    "sn2.apply(suma5)"
   ]
  },
  {
   "cell_type": "code",
   "execution_count": 113,
   "metadata": {},
   "outputs": [
    {
     "data": {
      "text/plain": [
       "0    17\n",
       "1    28\n",
       "2    17\n",
       "3    50\n",
       "4    28\n",
       "5    68\n",
       "6    49\n",
       "7    28\n",
       "dtype: int64"
      ]
     },
     "execution_count": 113,
     "metadata": {},
     "output_type": "execute_result"
    }
   ],
   "source": [
    "#Si se quiere guardar la serie con la función aplicada asignarlo a un nuevo objeto\n",
    "sn3 = suma5(sn2)\n",
    "sn3"
   ]
  },
  {
   "cell_type": "code",
   "execution_count": 116,
   "metadata": {},
   "outputs": [
    {
     "name": "stdout",
     "output_type": "stream",
     "text": [
      "0    12\n",
      "5    34\n",
      "1    57\n",
      "4    75\n",
      "2    87\n",
      "3    96\n",
      "dtype: int64\n"
     ]
    }
   ],
   "source": [
    "# Como ordenar una serie\n",
    "print(sn.sort_values(ascending=True))"
   ]
  },
  {
   "cell_type": "code",
   "execution_count": 118,
   "metadata": {},
   "outputs": [
    {
     "name": "stdout",
     "output_type": "stream",
     "text": [
      "0    12\n",
      "1    34\n",
      "2    57\n",
      "3    75\n",
      "4    87\n",
      "5    96\n",
      "dtype: int64\n"
     ]
    }
   ],
   "source": [
    "# aquí se reasignan los indices\n",
    "print(sn.sort_values(ascending=True, ignore_index=True))"
   ]
  },
  {
   "cell_type": "markdown",
   "metadata": {},
   "source": [
    "    *Que diferencia hay con esto? aquí solo te lo muestra como una lista no como Serie"
   ]
  },
  {
   "cell_type": "code",
   "execution_count": 117,
   "metadata": {},
   "outputs": [
    {
     "data": {
      "text/plain": [
       "[12, 34, 57, 75, 87, 96]"
      ]
     },
     "execution_count": 117,
     "metadata": {},
     "output_type": "execute_result"
    }
   ],
   "source": [
    "sorted(sn)"
   ]
  },
  {
   "cell_type": "code",
   "execution_count": 119,
   "metadata": {},
   "outputs": [
    {
     "data": {
      "text/plain": [
       "0    12\n",
       "1    34\n",
       "2    57\n",
       "3    75\n",
       "4    87\n",
       "5    96\n",
       "dtype: int64"
      ]
     },
     "execution_count": 119,
     "metadata": {},
     "output_type": "execute_result"
    }
   ],
   "source": [
    "sn4 = (sn.sort_values(ascending=True, ignore_index=True))\n",
    "sn4"
   ]
  },
  {
   "cell_type": "code",
   "execution_count": 121,
   "metadata": {},
   "outputs": [
    {
     "data": {
      "text/plain": [
       "2    87\n",
       "3    96\n",
       "4    75\n",
       "dtype: int64"
      ]
     },
     "execution_count": 121,
     "metadata": {},
     "output_type": "execute_result"
    }
   ],
   "source": [
    "# Como filtrar una serie, los mayores de 60. EL FILTRO VA ENTRE CORCHETES[]\n",
    "sn[sn>60]"
   ]
  },
  {
   "cell_type": "code",
   "execution_count": 174,
   "metadata": {},
   "outputs": [
    {
     "data": {
      "text/plain": [
       "0    124\n",
       "1    124\n",
       "2     82\n",
       "3     81\n",
       "4     75\n",
       "5     75\n",
       "6     63\n",
       "7     47\n",
       "8     44\n",
       "dtype: int64"
      ]
     },
     "execution_count": 174,
     "metadata": {},
     "output_type": "execute_result"
    }
   ],
   "source": [
    "#Práctica 3:\n",
    "\n",
    "import pandas as pd\n",
    "# Crearemos una lista con los siguientes números [25,17,34,82,124,75,44,63,47,9,81,124,75], con esta lista crearemos una serie de pandas llamada numvip\n",
    "numeros = [25,17,34,82,124,75,44,63,47,9,81,124,75]\n",
    "numvip = pd.Series(numeros) \n",
    "numvip \n",
    "\n",
    "# Clonaremos la serie para tener solemente los numeros mayores a 40 y ademas en orden descendente + reindexado. Le llamaremos numvip40, a esta nueva serie\n",
    "\n",
    "numvip40 = numvip[numvip>40].sort_values(ascending=False, ignore_index=True)\n",
    "numvip40"
   ]
  },
  {
   "cell_type": "code",
   "execution_count": 180,
   "metadata": {},
   "outputs": [
    {
     "data": {
      "text/plain": [
       "0    100.8\n",
       "1    100.8\n",
       "2     67.2\n",
       "3     66.4\n",
       "4     61.6\n",
       "5     61.6\n",
       "6     52.0\n",
       "7     39.2\n",
       "8     36.8\n",
       "dtype: float64"
      ]
     },
     "execution_count": 180,
     "metadata": {},
     "output_type": "execute_result"
    }
   ],
   "source": [
    "#  le aplicaremos una funcion que sume 2 y divida 1.25 a cada elementode la serie.\n",
    "\n",
    "def operar (x):\n",
    "    return (x+2)/1.25\n",
    "\n",
    "numvip40 = operar(numvip40) # esto es igual a numvip40.apply(operar)\n",
    "numvip40\n"
   ]
  },
  {
   "cell_type": "code",
   "execution_count": 181,
   "metadata": {},
   "outputs": [
    {
     "data": {
      "text/plain": [
       "100.8    2\n",
       "61.6     2\n",
       "67.2     1\n",
       "66.4     1\n",
       "52.0     1\n",
       "39.2     1\n",
       "36.8     1\n",
       "Name: count, dtype: int64"
      ]
     },
     "execution_count": 181,
     "metadata": {},
     "output_type": "execute_result"
    }
   ],
   "source": [
    "# Ver de la lista numvip40 la cantidad de veces que se repite cada numero\n",
    "\n",
    "numvip40.value_counts()"
   ]
  },
  {
   "cell_type": "code",
   "execution_count": 182,
   "metadata": {},
   "outputs": [
    {
     "name": "stdout",
     "output_type": "stream",
     "text": [
      "El promedio de la lista es 65.156\n"
     ]
    }
   ],
   "source": [
    "# Ver en un texto el promedio de la lista numvip40 con redondeo a 3 decimales.\n",
    "\n",
    "print(f\"El promedio de la lista es {round(numvip40.mean(),3)}\")"
   ]
  },
  {
   "cell_type": "code",
   "execution_count": 183,
   "metadata": {},
   "outputs": [
    {
     "name": "stdout",
     "output_type": "stream",
     "text": [
      "La desviación típica es 22.975\n"
     ]
    }
   ],
   "source": [
    "#  Ver en otro texto la desviacion tipica de numvip40 \n",
    "\n",
    "print(f\"La desviación típica es {round(numvip40.std(),3)}\")"
   ]
  },
  {
   "cell_type": "code",
   "execution_count": 184,
   "metadata": {},
   "outputs": [
    {
     "name": "stdout",
     "output_type": "stream",
     "text": [
      "La varianza es 527.858\n"
     ]
    }
   ],
   "source": [
    "# Ver en un texto con la varianza de numvip40\n",
    "\n",
    "print(f\"La varianza es {round(numvip40.var(),3)}\")\n"
   ]
  }
 ],
 "metadata": {
  "kernelspec": {
   "display_name": "Python 3",
   "language": "python",
   "name": "python3"
  },
  "language_info": {
   "codemirror_mode": {
    "name": "ipython",
    "version": 3
   },
   "file_extension": ".py",
   "mimetype": "text/x-python",
   "name": "python",
   "nbconvert_exporter": "python",
   "pygments_lexer": "ipython3",
   "version": "3.12.2"
  }
 },
 "nbformat": 4,
 "nbformat_minor": 2
}
