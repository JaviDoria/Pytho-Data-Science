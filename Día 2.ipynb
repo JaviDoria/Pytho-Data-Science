{
 "cells": [
  {
   "cell_type": "markdown",
   "metadata": {},
   "source": [
    "# Python course to Data Science - Second day \n",
    "* Let's see:"
   ]
  },
  {
   "cell_type": "code",
   "execution_count": 1,
   "metadata": {},
   "outputs": [
    {
     "name": "stdout",
     "output_type": "stream",
     "text": [
      "Verdadero\n"
     ]
    }
   ],
   "source": [
    "# La estructura de decisión IF , analiza una condición y si se cumple ejecuta una parte verdadera, si no se cumple se ejecuta una parte falsa.\n",
    "# Analizar una condición significa compara dos valores mediante una operador de comparación.\n",
    "alfa = \"Barcelona\"\n",
    "if alfa == \"Barcelona\":\n",
    "    print(\"Verdadero\")\n",
    "else:\n",
    "    print(\"Falso\")"
   ]
  },
  {
   "cell_type": "markdown",
   "metadata": {},
   "source": [
    "    * PRÁCTTICAS:"
   ]
  },
  {
   "cell_type": "code",
   "execution_count": 2,
   "metadata": {},
   "outputs": [
    {
     "name": "stdout",
     "output_type": "stream",
     "text": [
      "Enero\n",
      "Febrero\n",
      "Marzo\n",
      "Abril\n",
      "Mayo\n",
      "Julio\n",
      "Agosto\n",
      "Septiembre\n",
      "Octubre\n",
      "Noviembre\n",
      "Diciembre\n"
     ]
    }
   ],
   "source": [
    "# Práctica 1: Con la lista de meses y mediante un bucle for , imprimir todos los meses meno junio.\n",
    "meses = [\"Enero\", \"Febrero\", \"Marzo\", \"Abril\", \"Mayo\", \"Junio\", \"Julio\", \"Agosto\", \"Septiembre\", \"Octubre\", \"Noviembre\", \"Diciembre\"]\n",
    "for i in meses:\n",
    "    if i != \"Junio\":\n",
    "        print(i)"
   ]
  },
  {
   "cell_type": "code",
   "execution_count": 3,
   "metadata": {},
   "outputs": [
    {
     "name": "stdout",
     "output_type": "stream",
     "text": [
      "48\n",
      "62\n",
      "57\n",
      "84\n"
     ]
    }
   ],
   "source": [
    "# Práctica 2: Con la lista de números (15,33,48,62,25,57,84) y mediante un bucle for imprimir solamente los numeros mayores a 40.\n",
    "numeros = [15,33,48,62,25,57,84]\n",
    "for i in numeros:\n",
    "    if i > 40:\n",
    "        print(i)"
   ]
  },
  {
   "cell_type": "code",
   "execution_count": 4,
   "metadata": {},
   "outputs": [
    {
     "name": "stdout",
     "output_type": "stream",
     "text": [
      "Enero\n",
      "Marzo\n",
      "Abril\n",
      "Junio\n",
      "Julio\n"
     ]
    }
   ],
   "source": [
    "# Práctica 3: Con la lista de meses y mediante un bucle for imprimir todos los meses, cuyo número de caracteres de su nombre sea igual a 5.\n",
    "#meses = [\"Enero\", \"Febrero\", \"Marzo\", \"Abril\", \"Mayo\", \"Junio\", \"Julio\", \"Agosto\", \"Septiembre\", \"Octubre\", \"Noviembre\", \"Diciembre\"]\n",
    "for i in meses:\n",
    "    if len(i) == 5 :\n",
    "        print (i)"
   ]
  },
  {
   "cell_type": "markdown",
   "metadata": {},
   "source": [
    "En una estructura If, tengo dos opciones de delovolución \n",
    "IF condicion:\n",
    "    opcion dev. 1\n",
    "ELSE:\n",
    "    opcion dev. 2\n",
    "COn ELIF tendré mñas opciones de devolución , sirve para analizar varias condiciones. La condición es que siempre se analiza el mismo valor,\n",
    "\n"
   ]
  },
  {
   "cell_type": "code",
   "execution_count": 5,
   "metadata": {},
   "outputs": [
    {
     "name": "stdout",
     "output_type": "stream",
     "text": [
      "Barcelona\n"
     ]
    }
   ],
   "source": [
    "provincia = \"Barcelona\"\n",
    "if provincia == \"Barcelona\":\n",
    "    print(provincia)\n",
    "elif provincia == \"Gerona\":\n",
    "    print(provincia)\n",
    "elif provincia == \"Lerida\":\n",
    "    print(provincia)\n",
    "elif provincia == \"Tarragona\":\n",
    "    print(provincia)\n",
    "else:\n",
    "    print(\"No está en la lista\")\n"
   ]
  },
  {
   "cell_type": "code",
   "execution_count": 6,
   "metadata": {},
   "outputs": [
    {
     "name": "stdout",
     "output_type": "stream",
     "text": [
      "no está en el rango indicado\n"
     ]
    }
   ],
   "source": [
    "# Clasificar el valor de una variable por multiplos de 25 hasta 100\n",
    "\n",
    "x = 900\n",
    "if x <= 25:\n",
    "    print(\"comprendido entre 0 y 25\")\n",
    "elif x <= 50:\n",
    "    print(\"comprendido entre > 25 - 50\")\n",
    "elif x <= 75:\n",
    "    print(\"comprendido entre > 50 - 75\")\n",
    "elif x <= 100:\n",
    "    print(\"comprendido entre > 75 - 100\")\n",
    "else:\n",
    "    print(\"no está en el rango indicado\")\n"
   ]
  },
  {
   "cell_type": "markdown",
   "metadata": {},
   "source": [
    "Mediante una lista numerica con los siguientes numeros [13,27,34,87,123,46,61,88,32,-6,150,28] y usando un bucle for y un if anidado clasificar los numeros por multiplos de 30 hasta el 120, si no está en ese intervalo mostrar ese mensaje.\n"
   ]
  },
  {
   "cell_type": "code",
   "execution_count": 7,
   "metadata": {},
   "outputs": [
    {
     "name": "stdout",
     "output_type": "stream",
     "text": [
      "El número -6 no está en el rango indicado\n",
      "El número 13 está comprendido entre 0 y 30\n",
      "El número 27 está comprendido entre 0 y 30\n",
      "El número 28 está comprendido entre 0 y 30\n",
      "El número 32 está comprendido entre 31 y 60\n",
      "El número 34 está comprendido entre 31 y 60\n",
      "El número 46 está comprendido entre 31 y 60\n",
      "El número 61 está comprendido entre 61 y 90\n",
      "El número 87 está comprendido entre 61 y 90\n",
      "El número 88 está comprendido entre 61 y 90\n",
      "El número 123 no está en el rango indicado\n",
      "El número 150 no está en el rango indicado\n"
     ]
    }
   ],
   "source": [
    "numeros = [13, 27, 34, 87, 123, 46, 61, 88, 32, -6, 150, 28]\n",
    "numeros = sorted(numeros)  \n",
    "\n",
    "for i in numeros:\n",
    "    if i > 0 and i <= 30:\n",
    "        print(f\"El número {i} está comprendido entre 0 y 30\")\n",
    "    elif i > 30 and i <= 60:\n",
    "        print(f\"El número {i} está comprendido entre 31 y 60\")\n",
    "    elif i > 60 and i <= 90:\n",
    "        print(f\"El número {i} está comprendido entre 61 y 90\")\n",
    "    elif i > 90 and i <= 120:\n",
    "        print(f\"El número {i} está comprendido entre 91 y 120\")\n",
    "    else:\n",
    "        print(f\"El número {i} no está en el rango indicado\")\n"
   ]
  },
  {
   "cell_type": "markdown",
   "metadata": {},
   "source": [
    "# El switch case in Python, solo disponible en a partir de la versión 3.10.\n",
    " Se implemente con match"
   ]
  },
  {
   "cell_type": "code",
   "execution_count": 8,
   "metadata": {},
   "outputs": [
    {
     "name": "stdout",
     "output_type": "stream",
     "text": [
      "-89 no reconocido\n"
     ]
    }
   ],
   "source": [
    "x= -89\n",
    "match x:\n",
    "    case -10:\n",
    "        print(\"X vale -10\")\n",
    "    case 1:\n",
    "        print(\"X vale 1\")\n",
    "    case 2:\n",
    "        print(\"X vale 2\")\n",
    "    case 10:\n",
    "        print(\"X vale 10\")\n",
    "    case defaul:\n",
    "        print(f\"{x} no reconocido\")"
   ]
  },
  {
   "cell_type": "markdown",
   "metadata": {},
   "source": [
    "# Como salir de un bucle con la instruccion BREAK"
   ]
  },
  {
   "cell_type": "code",
   "execution_count": 9,
   "metadata": {},
   "outputs": [
    {
     "name": "stdout",
     "output_type": "stream",
     "text": [
      "D\n",
      "o\n",
      "m\n",
      "i\n"
     ]
    }
   ],
   "source": [
    "dia = \"Domingo\"\n",
    "for i in dia:\n",
    "    if i == \"n\":\n",
    "        break\n",
    "    else:\n",
    "        print(i)"
   ]
  },
  {
   "cell_type": "markdown",
   "metadata": {},
   "source": [
    "# Como saltar una iteracion en un bucle"
   ]
  },
  {
   "cell_type": "code",
   "execution_count": 10,
   "metadata": {},
   "outputs": [
    {
     "name": "stdout",
     "output_type": "stream",
     "text": [
      "D\n",
      "o\n",
      "m\n",
      "i\n",
      "g\n",
      "o\n"
     ]
    }
   ],
   "source": [
    "dia = \"Domingo\"\n",
    "for i in dia:\n",
    "    if i == \"n\":\n",
    "        continue\n",
    "    else:\n",
    "        print(i)"
   ]
  },
  {
   "cell_type": "markdown",
   "metadata": {},
   "source": [
    "# 2 funciones de texto , lower y upper "
   ]
  },
  {
   "cell_type": "code",
   "execution_count": 11,
   "metadata": {},
   "outputs": [
    {
     "name": "stdout",
     "output_type": "stream",
     "text": [
      "D\n",
      "O\n",
      "M\n",
      "I\n",
      "G\n",
      "O\n"
     ]
    }
   ],
   "source": [
    "dia = \"Domingo\"\n",
    "for i in dia:\n",
    "    if i == \"n\":\n",
    "        continue\n",
    "    else:\n",
    "        print(i.upper())"
   ]
  },
  {
   "cell_type": "code",
   "execution_count": 12,
   "metadata": {},
   "outputs": [
    {
     "name": "stdout",
     "output_type": "stream",
     "text": [
      "d\n",
      "o\n",
      "m\n",
      "i\n",
      "g\n",
      "o\n"
     ]
    }
   ],
   "source": [
    "dia = \"DOMINGO\"\n",
    "for i in dia:\n",
    "    if i == \"N\":\n",
    "        continue\n",
    "    else:\n",
    "        print(i.lower())"
   ]
  },
  {
   "cell_type": "code",
   "execution_count": 13,
   "metadata": {},
   "outputs": [
    {
     "name": "stdout",
     "output_type": "stream",
     "text": [
      "SUPERCLIFRGILISTICOESPILIDOSO\n"
     ]
    }
   ],
   "source": [
    "# Práctica 5: imprimir las letras en mayusculas de la palabra supercalifragilisticoespialidoso, menos las letras a.\n",
    "resultado =\"\"\n",
    "palabra =\"supercalifragilisticoespialidoso\"\n",
    "for i in palabra:\n",
    "    if i != \"a\":\n",
    "        resultado = resultado + i.upper()\n",
    "print(resultado)"
   ]
  },
  {
   "cell_type": "code",
   "execution_count": 14,
   "metadata": {},
   "outputs": [
    {
     "name": "stdout",
     "output_type": "stream",
     "text": [
      "[13, 27, 34, 87]\n"
     ]
    }
   ],
   "source": [
    "# Práctica 6 : con la lista de la p4, imprimir los valores de manera individual hasta que la suma de estos valores sea mayor de 100\n",
    "numeros = [13, 27, 34, 87, 123, 46, 61, 88, 32, -6, 150, 28]\n",
    "nueva = []\n",
    "suma = 0\n",
    "for i in numeros:\n",
    "    suma += i \n",
    "    nueva.append(i)\n",
    "    if suma > 100:\n",
    "        print(nueva)\n",
    "        break"
   ]
  },
  {
   "cell_type": "markdown",
   "metadata": {},
   "source": [
    "    * Revisar esto"
   ]
  },
  {
   "cell_type": "code",
   "execution_count": 33,
   "metadata": {},
   "outputs": [
    {
     "name": "stdout",
     "output_type": "stream",
     "text": [
      "13\n",
      "27\n",
      "34\n"
     ]
    }
   ],
   "source": [
    "#PRACTICA 6:\n",
    "acumulado = 0\n",
    "for numero in numeros:\n",
    "    acumulado+=numero\n",
    "    if acumulado>100:\n",
    "        break\n",
    "    print(numero)"
   ]
  },
  {
   "cell_type": "code",
   "execution_count": 15,
   "metadata": {},
   "outputs": [
    {
     "name": "stdout",
     "output_type": "stream",
     "text": [
      "BARCELONA\n",
      "VALENCIA\n",
      "SALAMANCA\n",
      "TARRAGONA\n"
     ]
    }
   ],
   "source": [
    "# Práctica 7 : imprimir la lista de las siguientes ciudades [\"BARCELONA\",\"MURCIA\",\"VALENCIA\",\"TOLEDO\",\"BILBAO\",\"SALAMANCA\",\"TERUEL\",\"BURGOS\",\"MADRID\",\"TARRAGONA\"] SIEMPRE Y CUANDO\n",
    "# EL NUMERO DE CARACTRERES DE SU NOMBRE SEA DIFERENTE DE 6\n",
    "ciudades = [\"BARCELONA\",\"MURCIA\",\"VALENCIA\",\"TOLEDO\",\"BILBAO\",\"SALAMANCA\",\"TERUEL\",\"BURGOS\",\"MADRID\",\"TARRAGONA\"]\n",
    "for i in ciudades:\n",
    "    if len(i) != 6:\n",
    "        print(i)"
   ]
  },
  {
   "cell_type": "code",
   "execution_count": 16,
   "metadata": {},
   "outputs": [
    {
     "name": "stdout",
     "output_type": "stream",
     "text": [
      "['BARCELONA', 'VALENCIA', 'SALAMANCA', 'TARRAGONA']\n"
     ]
    }
   ],
   "source": [
    "# Práctica 7 : imprimir la lista de las siguientes ciudades [\"BARCELONA\",\"MURCIA\",\"VALENCIA\",\"TOLEDO\",\"BILBAO\",\"SALAMANCA\",\"TERUEL\",\"BURGOS\",\"MADRID\",\"TARRAGONA\"] SIEMPRE Y CUANDO\n",
    "# EL NUMERO DE CARACTRERES DE SU NOMBRE SEA DIFERENTE DE 6\n",
    "ciudades = [\"BARCELONA\",\"MURCIA\",\"VALENCIA\",\"TOLEDO\",\"BILBAO\",\"SALAMANCA\",\"TERUEL\",\"BURGOS\",\"MADRID\",\"TARRAGONA\"]\n",
    "lista = []\n",
    "for i in ciudades:\n",
    "    if len(i) != 6:\n",
    "        lista.append(i)\n",
    "print(lista)"
   ]
  },
  {
   "cell_type": "markdown",
   "metadata": {},
   "source": [
    "# FUNCIONES PERSONALIZADAS EN PYTHON, una funcion es un codigo que devuelve un resultado , las funciones sirven para optimizar codigo, premiten recursividad .\n",
    "Primero la palabra def, espacio en blanco y después el nombre de la funcion, dicho nombre no puede tener espacion en blanco, ni caracteres especiales, no empezar con numero , luego parentesis de apertura , dentro los parametros separados por coma, y finalmente el parentesis de cierre.\n",
    "Primero ejecuto la función , para que quede en el Kernel , despues ya se la puede llamar\n"
   ]
  },
  {
   "cell_type": "code",
   "execution_count": 17,
   "metadata": {},
   "outputs": [],
   "source": [
    "# funcion para sumar 10 a un número, opción con print (devolverá texto, no se puede utilizar para una función aritmética\n",
    "def suma10 (x):\n",
    "    print(f\"El resultado es {x + 10}\")"
   ]
  },
  {
   "cell_type": "code",
   "execution_count": 18,
   "metadata": {},
   "outputs": [
    {
     "name": "stdout",
     "output_type": "stream",
     "text": [
      "El resultado es 45\n"
     ]
    }
   ],
   "source": [
    "suma10(35)"
   ]
  },
  {
   "cell_type": "code",
   "execution_count": 19,
   "metadata": {},
   "outputs": [],
   "source": [
    "# funcion para sumar 20 a un número, oopción return que esto devolverá un número\n",
    "def suma20 (x):\n",
    "    return x + 20"
   ]
  },
  {
   "cell_type": "code",
   "execution_count": 20,
   "metadata": {},
   "outputs": [
    {
     "data": {
      "text/plain": [
       "39"
      ]
     },
     "execution_count": 20,
     "metadata": {},
     "output_type": "execute_result"
    }
   ],
   "source": [
    "14+suma20(5)"
   ]
  },
  {
   "cell_type": "code",
   "execution_count": 21,
   "metadata": {},
   "outputs": [],
   "source": [
    "def sumaab (a,b):\n",
    "    return a+b"
   ]
  },
  {
   "cell_type": "code",
   "execution_count": 22,
   "metadata": {},
   "outputs": [
    {
     "data": {
      "text/plain": [
       "75"
      ]
     },
     "execution_count": 22,
     "metadata": {},
     "output_type": "execute_result"
    }
   ],
   "source": [
    "sumaab(15,60)"
   ]
  },
  {
   "cell_type": "code",
   "execution_count": 23,
   "metadata": {},
   "outputs": [],
   "source": [
    "# Práctica 8 : hacer una función que sume 12 a un número y lo divida entre 2 y que devuelva un texto.\n",
    "def suma1202(x):\n",
    "    print(f\"El resultado es {round((x+12)/2,2)}\") #round(X,2) nos devuelve 2 decimales"
   ]
  },
  {
   "cell_type": "code",
   "execution_count": 24,
   "metadata": {},
   "outputs": [
    {
     "name": "stdout",
     "output_type": "stream",
     "text": [
      "El resultado es 10.27\n"
     ]
    }
   ],
   "source": [
    "suma1202(8.53)"
   ]
  },
  {
   "cell_type": "code",
   "execution_count": 25,
   "metadata": {},
   "outputs": [],
   "source": [
    "# Práctica 9 : hacer una funcion que pasandole un numero entre el 1 y el 12 nos devuelva el mes en letras, ojo si se le pasa un valor que no esté en el intervalo.\n",
    "\n",
    "def mes(x):\n",
    "    meses = [\"Enero\", \"Febrero\", \"Marzo\", \"Abril\", \"Mayo\", \"Junio\", \"Julio\", \"Agosto\", \"Septiembre\", \"Octubre\", \"Noviembre\", \"Diciembre\"]\n",
    "    if x > 0 and x <=12:\n",
    "        print(meses[x-1])\n",
    "    else:\n",
    "        print(\"No está en rango\")\n"
   ]
  },
  {
   "cell_type": "code",
   "execution_count": 26,
   "metadata": {},
   "outputs": [
    {
     "name": "stdout",
     "output_type": "stream",
     "text": [
      "Diciembre\n"
     ]
    }
   ],
   "source": [
    "mes(12)"
   ]
  },
  {
   "cell_type": "code",
   "execution_count": 27,
   "metadata": {},
   "outputs": [],
   "source": [
    "# Práctica 10 : crear una función que nos devuelva el area de un triangulo.\n",
    "def areatriangulo(base,altura):\n",
    "    return (base * altura) / 2"
   ]
  },
  {
   "cell_type": "code",
   "execution_count": 28,
   "metadata": {},
   "outputs": [
    {
     "data": {
      "text/plain": [
       "24.0"
      ]
     },
     "execution_count": 28,
     "metadata": {},
     "output_type": "execute_result"
    }
   ],
   "source": [
    "areatriangulo(12,4)"
   ]
  },
  {
   "cell_type": "code",
   "execution_count": 29,
   "metadata": {},
   "outputs": [],
   "source": [
    "# Práctica 11 : crear una funcion que nos compare dos números y me devuelva los 3 posibles resultados: a > b, a < b y son iguales.\n",
    "def comparar(num1,num2):\n",
    "    if num1 > num2:\n",
    "        print(f\"El número {num1} es mayor\")\n",
    "    elif num1 < num2:\n",
    "        print(f\"El número {num2} es mayor\")\n",
    "    else:\n",
    "        print(\"Los números son iguales\")\n"
   ]
  },
  {
   "cell_type": "code",
   "execution_count": 30,
   "metadata": {},
   "outputs": [
    {
     "name": "stdout",
     "output_type": "stream",
     "text": [
      "El número 34 es mayor\n"
     ]
    }
   ],
   "source": [
    "comparar(17,34)"
   ]
  },
  {
   "cell_type": "code",
   "execution_count": 31,
   "metadata": {},
   "outputs": [
    {
     "name": "stdout",
     "output_type": "stream",
     "text": [
      "El resultado es 13.5\n",
      "El resultado es 18.0\n",
      "El resultado es 45.0\n",
      "El resultado es 37.5\n",
      "El resultado es 34.5\n"
     ]
    }
   ],
   "source": [
    "# Práctica 12 : aprovechando la función de la P8 recorrer una lista con los siguientes números [15,24,78,63,57] y ver el resultados de después de aplicar la función\n",
    "lista=[15,24,78,63,57]\n",
    "for i in lista:\n",
    "    suma1202(i)\n"
   ]
  },
  {
   "cell_type": "code",
   "execution_count": 41,
   "metadata": {},
   "outputs": [
    {
     "data": {
      "text/plain": [
       "['La',\n",
       " 'próxima',\n",
       " 'clase',\n",
       " 'será',\n",
       " 'jueves',\n",
       " 'y',\n",
       " 'la',\n",
       " 'siguiente',\n",
       " 'lunes,',\n",
       " 'viernes',\n",
       " 'no',\n",
       " 'vengo']"
      ]
     },
     "execution_count": 41,
     "metadata": {},
     "output_type": "execute_result"
    }
   ],
   "source": [
    "# Funcion que separa un texto entre espacios en blanco SPLIT\n",
    "palabra = \"La próxima clase será jueves y la siguiente lunes, viernes no vengo\"\n",
    "lista = palabra.split()\n",
    "\n",
    "# VER UN ELEMENTO CONCRETO DE LA DIVISIÓN CON SU INDICE\n",
    "lista[1]\n",
    "\n",
    "# LA FUNCIÑON LIST NOS MUESTRA UN OBJETO QUE CONTENGA VARIOS ELEMENTOS\n",
    "list(lista) "
   ]
  }
 ],
 "metadata": {
  "kernelspec": {
   "display_name": "Python 3",
   "language": "python",
   "name": "python3"
  },
  "language_info": {
   "codemirror_mode": {
    "name": "ipython",
    "version": 3
   },
   "file_extension": ".py",
   "mimetype": "text/x-python",
   "name": "python",
   "nbconvert_exporter": "python",
   "pygments_lexer": "ipython3",
   "version": "3.12.2"
  }
 },
 "nbformat": 4,
 "nbformat_minor": 2
}
