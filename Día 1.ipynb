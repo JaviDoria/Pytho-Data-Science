{
 "cells": [
  {
   "cell_type": "code",
   "execution_count": null,
   "metadata": {},
   "outputs": [],
   "source": [
    "#Listas, Tuplas y Diccionarios\n",
    "semana = [\"lunes\",\"martes\",\"miércoles\",\"jueves\"]\n",
    "semana[0]"
   ]
  },
  {
   "cell_type": "code",
   "execution_count": null,
   "metadata": {},
   "outputs": [],
   "source": [
    "#Modificar una posicion\n",
    "semana[0]= \"domingo\"\n",
    "semana "
   ]
  },
  {
   "cell_type": "code",
   "execution_count": null,
   "metadata": {},
   "outputs": [],
   "source": [
    "#Longitud de un elemento\n",
    "len(semana)"
   ]
  },
  {
   "cell_type": "code",
   "execution_count": null,
   "metadata": {},
   "outputs": [],
   "source": [
    "#Como añadir un elemento a una lista con la funcion append\n",
    "semana.append(\"viernes\")\n",
    "semana"
   ]
  },
  {
   "cell_type": "code",
   "execution_count": null,
   "metadata": {},
   "outputs": [],
   "source": [
    "#Inserta un valor en la posicion que le indique\n",
    "semana.insert(1,\"sábado\")\n",
    "semana"
   ]
  },
  {
   "cell_type": "code",
   "execution_count": null,
   "metadata": {},
   "outputs": [],
   "source": [
    "#Contar las veces que aparece un elemento\n",
    "semana.count(\"viernes\")"
   ]
  },
  {
   "cell_type": "code",
   "execution_count": null,
   "metadata": {},
   "outputs": [],
   "source": [
    "#Eliminar un elemento. con Remove elimina el primer elemento que encuentra\n",
    "semana.remove(\"viernes\")\n",
    "print(semana)"
   ]
  },
  {
   "cell_type": "code",
   "execution_count": null,
   "metadata": {},
   "outputs": [],
   "source": [
    "semana.insert(0,\"lunes\")\n",
    "semana.append(\"lunes\")\n",
    "semana"
   ]
  },
  {
   "cell_type": "code",
   "execution_count": null,
   "metadata": {},
   "outputs": [],
   "source": [
    "#Eliminar con DEL busca el elemento en el indice que se le indique\n",
    "del semana[0]\n",
    "semana"
   ]
  },
  {
   "cell_type": "markdown",
   "metadata": {},
   "source": [
    "PRÁCTICA 1:\n",
    "* Crearemos una lista llamada meses que tendrá los meses de enero a mayo menos abril.  \n",
    "* Despues añadiremos junio y julio.  \n",
    "* Incertaremos el mes de abril en su sitio correcto.  \n",
    "* Añadiremos dos veces mas al final febrero.  \n",
    "* En una variable almacenaremos el numero de veces que está el mes de febrero.  \n",
    "* Después eliminaremos los febreros que sobran.  \n",
    "* Finalmente en un texto nos tiene que mostrar cuantas veces estaba febrero cuando estaban todos."
   ]
  },
  {
   "cell_type": "code",
   "execution_count": 24,
   "metadata": {},
   "outputs": [
    {
     "name": "stdout",
     "output_type": "stream",
     "text": [
      "['enero', 'febrero', 'marzo', 'mayo']\n",
      "['enero', 'febrero', 'marzo', 'mayo', 'junio', 'julio']\n",
      "['enero', 'febrero', 'marzo', 'abril', 'mayo', 'junio', 'julio']\n",
      "['enero', 'febrero', 'marzo', 'abril', 'mayo', 'junio', 'julio', 'febrero', 'febrero']\n",
      "['enero', 'febrero', 'marzo', 'abril', 'mayo', 'junio', 'julio']\n",
      "El total de veces que aparecía febrero era 3 veces\n"
     ]
    }
   ],
   "source": [
    "meses=[\"enero\",\"febrero\",\"marzo\",\"mayo\"]\n",
    "print(meses)\n",
    "meses.append(\"junio\")\n",
    "meses.append(\"julio\")\n",
    "print(meses)\n",
    "meses.insert(3,\"abril\")\n",
    "print(meses)\n",
    "meses.append(\"febrero\")\n",
    "meses.append(\"febrero\")\n",
    "print(meses)\n",
    "x = meses.count(\"febrero\")\n",
    "del meses[-1]\n",
    "del meses[-1]\n",
    "print(meses)\n",
    "print(f\"El total de veces que aparecía febrero era {x} veces\")\n",
    "\n",
    "\n"
   ]
  },
  {
   "cell_type": "code",
   "execution_count": 25,
   "metadata": {},
   "outputs": [
    {
     "data": {
      "text/plain": [
       "[18, 67, 75, 24]"
      ]
     },
     "execution_count": 25,
     "metadata": {},
     "output_type": "execute_result"
    }
   ],
   "source": [
    "numeros = [18,67,75,24]\n",
    "numeros"
   ]
  },
  {
   "cell_type": "code",
   "execution_count": 27,
   "metadata": {},
   "outputs": [
    {
     "data": {
      "text/plain": [
       "[0, 1, 2, 3, 4]"
      ]
     },
     "execution_count": 27,
     "metadata": {},
     "output_type": "execute_result"
    }
   ],
   "source": [
    "numeros2 = range(5)\n",
    "numeros2\n",
    "list(numeros2)"
   ]
  },
  {
   "cell_type": "code",
   "execution_count": 29,
   "metadata": {},
   "outputs": [
    {
     "data": {
      "text/plain": [
       "[10, 11, 12, 13, 14, 15, 16, 17, 18, 19, 20, 21, 22, 23, 24]"
      ]
     },
     "execution_count": 29,
     "metadata": {},
     "output_type": "execute_result"
    }
   ],
   "source": [
    "#Utilizo range para decir de donde a donde quiero que me haga la lista\n",
    "numeros3 = range(10,25)\n",
    "numeros3\n",
    "list(numeros3)"
   ]
  },
  {
   "cell_type": "code",
   "execution_count": 30,
   "metadata": {},
   "outputs": [
    {
     "data": {
      "text/plain": [
       "[10, 12, 14, 16, 18, 20, 22, 24]"
      ]
     },
     "execution_count": 30,
     "metadata": {},
     "output_type": "execute_result"
    }
   ],
   "source": [
    "#Despues de la ultima coma marco el step\n",
    "numeros4 = range(10,25,2)\n",
    "numeros4\n",
    "list(numeros4)"
   ]
  },
  {
   "cell_type": "code",
   "execution_count": 31,
   "metadata": {},
   "outputs": [
    {
     "data": {
      "text/plain": [
       "[32, 30, 28, 26, 24, 22, 20, 18, 16, 14, 12]"
      ]
     },
     "execution_count": 31,
     "metadata": {},
     "output_type": "execute_result"
    }
   ],
   "source": [
    "#Ahora de manera regresiva donde el step es negativo para indicar la direccion, el primer parámetro tiene que ser mayor que el segundo.\n",
    "numeros5 = range(32,10,-2)\n",
    "numeros5\n",
    "list(numeros5)"
   ]
  },
  {
   "cell_type": "code",
   "execution_count": 33,
   "metadata": {},
   "outputs": [
    {
     "data": {
      "text/plain": [
       "242"
      ]
     },
     "execution_count": 33,
     "metadata": {},
     "output_type": "execute_result"
    }
   ],
   "source": [
    "#Funciones de resumen sobre listas numericas\n",
    "sum(numeros5)"
   ]
  },
  {
   "cell_type": "code",
   "execution_count": 35,
   "metadata": {},
   "outputs": [
    {
     "data": {
      "text/plain": [
       "24"
      ]
     },
     "execution_count": 35,
     "metadata": {},
     "output_type": "execute_result"
    }
   ],
   "source": [
    "#Ver el valor máximo de la lista\n",
    "max(numeros4)"
   ]
  },
  {
   "cell_type": "code",
   "execution_count": 36,
   "metadata": {},
   "outputs": [
    {
     "data": {
      "text/plain": [
       "12"
      ]
     },
     "execution_count": 36,
     "metadata": {},
     "output_type": "execute_result"
    }
   ],
   "source": [
    "#Ver el valor mínimo de la lista\n",
    "min(numeros5)"
   ]
  },
  {
   "cell_type": "markdown",
   "metadata": {},
   "source": [
    "El bucle: Es un codigo que se repite hasta que se cumple una condicion dada.      \n",
    "Hay de dos tipos:  \n",
    "* Finitos : tiene un numero determinado de iteraciones.     (BUCLE FOR)\n",
    "* Infinitos: tiene que tener una condición que indique su final.  (BUCLE WHILE)\n"
   ]
  },
  {
   "cell_type": "code",
   "execution_count": 37,
   "metadata": {},
   "outputs": [
    {
     "name": "stdout",
     "output_type": "stream",
     "text": [
      "[18, 67, 75, 24]\n",
      "terminado con éxito\n"
     ]
    }
   ],
   "source": [
    "#BUCLE FOR\n",
    "for i in [numeros]:\n",
    "    print(i)\n",
    "print(\"terminado con éxito\")\n"
   ]
  },
  {
   "cell_type": "code",
   "execution_count": 44,
   "metadata": {},
   "outputs": [
    {
     "name": "stdout",
     "output_type": "stream",
     "text": [
      "1\n",
      "18\n",
      "2\n",
      "44\n",
      "3\n",
      "61\n"
     ]
    }
   ],
   "source": [
    "iter = 1\n",
    "for i in [18,44,61]:\n",
    "    print(iter)\n",
    "    print(i)\n",
    "    iter + = 1   # esto es igual a: iter = iter + 1"
   ]
  },
  {
   "cell_type": "code",
   "execution_count": 46,
   "metadata": {},
   "outputs": [
    {
     "name": "stdout",
     "output_type": "stream",
     "text": [
      "El 1, mes del año es enero\n",
      "El 2, mes del año es febrero\n",
      "El 3, mes del año es marzo\n",
      "El 4, mes del año es abril\n",
      "El 5, mes del año es mayo\n",
      "El 6, mes del año es junio\n",
      "El 7, mes del año es julio\n"
     ]
    }
   ],
   "source": [
    "iter = 1\n",
    "for mes in meses:\n",
    "    print(f\"El {iter}, mes del año es {mes}\")\n",
    "    iter +=1"
   ]
  },
  {
   "cell_type": "markdown",
   "metadata": {},
   "source": [
    "# PRACTICA 2:\n",
    "* Crear una lista de los meses del año y mediante un bucle for imprimir los meses poniendo el numero del año , solo imprimir los meses pares."
   ]
  },
  {
   "cell_type": "code",
   "execution_count": 79,
   "metadata": {},
   "outputs": [
    {
     "name": "stdout",
     "output_type": "stream",
     "text": [
      "El 2º mes del año es Febrero\n",
      "El 4º mes del año es Abril\n",
      "El 6º mes del año es Junio\n",
      "El 8º mes del año es Agosto\n",
      "El 10º mes del año es Octubre\n",
      "El 12º mes del año es Diciembre\n"
     ]
    }
   ],
   "source": [
    "mesestotal = [\"Enero\", \"Febrero\", \"Marzo\", \"Abril\", \"Mayo\", \"Junio\", \"Julio\", \"Agosto\", \"Septiembre\", \"Octubre\", \"Noviembre\", \"Diciembre\"]\n",
    "\n",
    "for i in range(1, len(mesestotal), 2):\n",
    "    print(f\"El {i + 1}º mes del año es {mesestotal[i]}\")\n"
   ]
  },
  {
   "cell_type": "code",
   "execution_count": 76,
   "metadata": {},
   "outputs": [
    {
     "name": "stdout",
     "output_type": "stream",
     "text": [
      "El 2º mes es Febrero\n",
      "El 4º mes es Abril\n",
      "El 6º mes es Junio\n",
      "El 8º mes es Agosto\n",
      "El 10º mes es Octubre\n",
      "El 12º mes es Diciembre\n"
     ]
    }
   ],
   "source": [
    "mesestotal = [\"Enero\", \"Febrero\", \"Marzo\", \"Abril\", \"Mayo\", \"Junio\", \"Julio\", \"Agosto\", \"Septiembre\", \"Octubre\", \"Noviembre\", \"Diciembre\"]\n",
    "iter = 2\n",
    "for i in [1,3,5,7,9,11]:\n",
    "    print(f\"El {iter}º mes es {mesestotal[i]}\")\n",
    "    iter += 2"
   ]
  },
  {
   "cell_type": "code",
   "execution_count": 84,
   "metadata": {},
   "outputs": [
    {
     "name": "stdout",
     "output_type": "stream",
     "text": [
      "El segundo mes es Febrero\n",
      "El cuarto mes es Abril\n",
      "El sexto mes es Junio\n",
      "El octavo mes es Agosto\n",
      "El decimo mes es Octubre\n",
      "El doceavo mes es Diciembre\n"
     ]
    }
   ],
   "source": [
    "mesestotal = [\"Enero\", \"Febrero\", \"Marzo\", \"Abril\", \"Mayo\", \"Junio\", \"Julio\", \"Agosto\", \"Septiembre\", \"Octubre\", \"Noviembre\", \"Diciembre\"]\n",
    "cardinal = [\"primer\",\"segundo\",\"tercer\",\"cuarto\",\"quinto\",\"sexto\",\"septimo\",\"octavo\",\"novemo\",\"decimo\",\"undecimo\",\"doceavo\"]\n",
    "iter = 1    \n",
    "for mes in mesestotal:\n",
    "    iter+=1\n",
    "\n",
    "iter = 2\n",
    "for i in [1,3,5,7,9,11]:\n",
    "    print(f\"El {cardinal[i]} mes es {mesestotal[i]}\")\n",
    "    iter += 2"
   ]
  }
 ],
 "metadata": {
  "kernelspec": {
   "display_name": "Pandas",
   "language": "python",
   "name": "python3"
  },
  "language_info": {
   "codemirror_mode": {
    "name": "ipython",
    "version": 3
   },
   "file_extension": ".py",
   "mimetype": "text/x-python",
   "name": "python",
   "nbconvert_exporter": "python",
   "pygments_lexer": "ipython3",
   "version": "3.11.9"
  }
 },
 "nbformat": 4,
 "nbformat_minor": 2
}
